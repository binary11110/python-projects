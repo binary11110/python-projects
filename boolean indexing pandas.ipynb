{
 "cells": [
  {
   "cell_type": "markdown",
   "id": "61b96cd8",
   "metadata": {},
   "source": [
    "Boolean Indexing is used if user wants to filter the values of a column based on conditions from another set of columns. For instance, we want a list of all students who are not scholars and got a loan. Boolean indexing can support here.\n",
    "\n"
   ]
  },
  {
   "cell_type": "code",
   "execution_count": 2,
   "id": "fcd61b21",
   "metadata": {},
   "outputs": [
    {
     "data": {
      "text/plain": [
       "True"
      ]
     },
     "execution_count": 2,
     "metadata": {},
     "output_type": "execute_result"
    }
   ],
   "source": [
    "#in python 0 is false , 1 is true and vice versa\n",
    "0==False"
   ]
  },
  {
   "cell_type": "code",
   "execution_count": 3,
   "id": "194723e2",
   "metadata": {},
   "outputs": [
    {
     "data": {
      "text/plain": [
       "2"
      ]
     },
     "execution_count": 3,
     "metadata": {},
     "output_type": "execute_result"
    }
   ],
   "source": [
    "c = 10\n",
    "(c > 1) + (c<20) +(c == 12)"
   ]
  },
  {
   "cell_type": "code",
   "execution_count": 4,
   "id": "cb5102b7",
   "metadata": {},
   "outputs": [],
   "source": [
    "#a boolean test can be used as an index for an index for an array or tuple\n",
    "state = True\n",
    "state = (True , False)[state]\n"
   ]
  },
  {
   "cell_type": "code",
   "execution_count": 5,
   "id": "a77893ca",
   "metadata": {},
   "outputs": [
    {
     "data": {
      "text/plain": [
       "False"
      ]
     },
     "execution_count": 5,
     "metadata": {},
     "output_type": "execute_result"
    }
   ],
   "source": [
    "state"
   ]
  },
  {
   "cell_type": "code",
   "execution_count": null,
   "id": "83e1f480",
   "metadata": {},
   "outputs": [],
   "source": []
  }
 ],
 "metadata": {
  "kernelspec": {
   "display_name": "Python 3 (ipykernel)",
   "language": "python",
   "name": "python3"
  },
  "language_info": {
   "codemirror_mode": {
    "name": "ipython",
    "version": 3
   },
   "file_extension": ".py",
   "mimetype": "text/x-python",
   "name": "python",
   "nbconvert_exporter": "python",
   "pygments_lexer": "ipython3",
   "version": "3.9.7"
  }
 },
 "nbformat": 4,
 "nbformat_minor": 5
}
