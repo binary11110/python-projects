{
 "cells": [
  {
   "cell_type": "markdown",
   "id": "25d9a6b1",
   "metadata": {},
   "source": [
    "The central limit theorem (CLT) states that the distribution of sample means approximates a normal distribution as the sample size gets larger"
   ]
  },
  {
   "cell_type": "code",
   "execution_count": 44,
   "id": "3cc6753d",
   "metadata": {},
   "outputs": [],
   "source": [
    "import numpy as np\n",
    "import matplotlib.pyplot as plt\n",
    "import pandas as pd"
   ]
  },
  {
   "cell_type": "code",
   "execution_count": 45,
   "id": "82015a59",
   "metadata": {},
   "outputs": [
    {
     "data": {
      "text/html": [
       "<div>\n",
       "<style scoped>\n",
       "    .dataframe tbody tr th:only-of-type {\n",
       "        vertical-align: middle;\n",
       "    }\n",
       "\n",
       "    .dataframe tbody tr th {\n",
       "        vertical-align: top;\n",
       "    }\n",
       "\n",
       "    .dataframe thead th {\n",
       "        text-align: right;\n",
       "    }\n",
       "</style>\n",
       "<table border=\"1\" class=\"dataframe\">\n",
       "  <thead>\n",
       "    <tr style=\"text-align: right;\">\n",
       "      <th></th>\n",
       "      <th>Loan_ID</th>\n",
       "      <th>Education</th>\n",
       "      <th>ApplicantIncome</th>\n",
       "      <th>CoapplicantIncome</th>\n",
       "      <th>LoanAmount</th>\n",
       "      <th>Loan_Amount_Term</th>\n",
       "      <th>Credit_History</th>\n",
       "    </tr>\n",
       "  </thead>\n",
       "  <tbody>\n",
       "    <tr>\n",
       "      <th>121</th>\n",
       "      <td>LP001430</td>\n",
       "      <td>Graduate</td>\n",
       "      <td>4166</td>\n",
       "      <td>0.0</td>\n",
       "      <td>44.0</td>\n",
       "      <td>360.0</td>\n",
       "      <td>1.0</td>\n",
       "    </tr>\n",
       "    <tr>\n",
       "      <th>351</th>\n",
       "      <td>LP002140</td>\n",
       "      <td>Graduate</td>\n",
       "      <td>8750</td>\n",
       "      <td>4167.0</td>\n",
       "      <td>308.0</td>\n",
       "      <td>360.0</td>\n",
       "      <td>1.0</td>\n",
       "    </tr>\n",
       "    <tr>\n",
       "      <th>32</th>\n",
       "      <td>LP001097</td>\n",
       "      <td>Graduate</td>\n",
       "      <td>4692</td>\n",
       "      <td>0.0</td>\n",
       "      <td>106.0</td>\n",
       "      <td>360.0</td>\n",
       "      <td>1.0</td>\n",
       "    </tr>\n",
       "    <tr>\n",
       "      <th>395</th>\n",
       "      <td>LP002272</td>\n",
       "      <td>Graduate</td>\n",
       "      <td>3276</td>\n",
       "      <td>484.0</td>\n",
       "      <td>135.0</td>\n",
       "      <td>360.0</td>\n",
       "      <td>NaN</td>\n",
       "    </tr>\n",
       "    <tr>\n",
       "      <th>185</th>\n",
       "      <td>LP001640</td>\n",
       "      <td>Graduate</td>\n",
       "      <td>39147</td>\n",
       "      <td>4750.0</td>\n",
       "      <td>120.0</td>\n",
       "      <td>360.0</td>\n",
       "      <td>1.0</td>\n",
       "    </tr>\n",
       "  </tbody>\n",
       "</table>\n",
       "</div>"
      ],
      "text/plain": [
       "      Loan_ID Education  ApplicantIncome  CoapplicantIncome  LoanAmount  \\\n",
       "121  LP001430  Graduate             4166                0.0        44.0   \n",
       "351  LP002140  Graduate             8750             4167.0       308.0   \n",
       "32   LP001097  Graduate             4692                0.0       106.0   \n",
       "395  LP002272  Graduate             3276              484.0       135.0   \n",
       "185  LP001640  Graduate            39147             4750.0       120.0   \n",
       "\n",
       "     Loan_Amount_Term  Credit_History  \n",
       "121             360.0             1.0  \n",
       "351             360.0             1.0  \n",
       "32              360.0             1.0  \n",
       "395             360.0             NaN  \n",
       "185             360.0             1.0  "
      ]
     },
     "execution_count": 45,
     "metadata": {},
     "output_type": "execute_result"
    }
   ],
   "source": [
    "df = pd.read_csv('loan_data_set.csv')\n",
    "df.drop(['Married','Gender','Self_Employed','Dependents','Loan_Status','Property_Area'],axis =1 ,inplace =True)\n",
    "df1 = df.sample(10)\n",
    "df2 = df.sample(100)\n",
    "df3 = df.sample(300)\n",
    "df4 = df.sample(600)\n",
    "df1.head()"
   ]
  },
  {
   "cell_type": "code",
   "execution_count": 48,
   "id": "bab388f5",
   "metadata": {},
   "outputs": [
    {
     "data": {
      "image/png": "[encoded data removed]",
      "text/plain": [
       "<Figure size 432x288 with 4 Axes>"
      ]
     },
     "metadata": {
      "needs_background": "light"
     },
     "output_type": "display_data"
    }
   ],
   "source": [
    "fig , ax = plt.subplots(2,2)\n",
    "\n",
    "ax[0,0].hist(df1)\n",
    "ax[0,1].hist(df2)\n",
    "ax[1,0].hist(df3)\n",
    "ax[1,1].hist(df4, density = True)\n",
    "plt.show()"
   ]
  },
  {
   "cell_type": "code",
   "execution_count": 1,
   "id": "2370cb10",
   "metadata": {},
   "outputs": [
    {
     "data": {
      "image/png": "[encoded data removed]",
      "text/plain": [
       "<Figure size 576x576 with 4 Axes>"
      ]
     },
     "metadata": {
      "needs_background": "light"
     },
     "output_type": "display_data"
    }
   ],
   "source": [
    "import numpy\n",
    "import matplotlib.pyplot as plt\n",
    "\n",
    "# number of sample\n",
    "num = [1, 10, 50, 100]\n",
    "# list of sample means\n",
    "means = []\n",
    "\n",
    "# Generating 1, 10, 30, 100 random numbers from -40 to 40\n",
    "# taking their mean and appending it to list means.\n",
    "for j in num:\n",
    "\t# Generating seed so that we can get same result\n",
    "\t# every time the loop is run...\n",
    "\tnumpy.random.seed(1)\n",
    "\tx = [numpy.mean(numpy.random.randint(-40, 40, j)) for _i in range(1000)]\n",
    "\tmeans.append(x)\n",
    "k = 0\n",
    "\n",
    "# plotting all the means in one figure\n",
    "fig, ax = plt.subplots(2, 2, figsize =(8, 8))\n",
    "for i in range(0, 2):\n",
    "\tfor j in range(0, 2):\n",
    "\t\t# Histogram for each x stored in means\n",
    "\t\tax[i, j].hist(means[k], 10, density = True)\n",
    "\t\tax[i, j].set_title(label = num[k])\n",
    "\t\tk = k + 1\n",
    "plt.show()\n"
   ]
  },
  {
   "cell_type": "code",
   "execution_count": null,
   "id": "3d254b9c",
   "metadata": {},
   "outputs": [],
   "source": []
  }
 ],
 "metadata": {
  "kernelspec": {
   "display_name": "Python 3 (ipykernel)",
   "language": "python",
   "name": "python3"
  },
  "language_info": {
   "codemirror_mode": {
    "name": "ipython",
    "version": 3
   },
   "file_extension": ".py",
   "mimetype": "text/x-python",
   "name": "python",
   "nbconvert_exporter": "python",
   "pygments_lexer": "ipython3",
   "version": "3.9.7"
  }
 },
 "nbformat": 4,
 "nbformat_minor": 5
}
