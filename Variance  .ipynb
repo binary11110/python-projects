{
 "cells": [
  {
   "cell_type": "markdown",
   "id": "2614d4d6",
   "metadata": {},
   "source": [
    "is a measure of variability. It is calculated by taking the average of squared distance between data point and the mean.\n",
    "Variance tells you the degree of spread in your data set. The more spread the data, the larger the variance is in relation to the mean."
   ]
  },
  {
   "cell_type": "code",
   "execution_count": 1,
   "id": "9fd26ccd",
   "metadata": {},
   "outputs": [],
   "source": [
    "import numpy as np\n",
    "import pandas as pd\n",
    "df = pd.read_csv('loan_data_set.csv')"
   ]
  },
  {
   "cell_type": "code",
   "execution_count": 2,
   "id": "9a64b5ad",
   "metadata": {},
   "outputs": [
    {
     "name": "stdout",
     "output_type": "stream",
     "text": [
      "Variance: 37320390.16718121\n"
     ]
    }
   ],
   "source": [
    "var = np.var(df['ApplicantIncome'] ,ddof = 1)\n",
    "print(\"Variance:\", var)"
   ]
  },
  {
   "cell_type": "code",
   "execution_count": null,
   "id": "229d6cb4",
   "metadata": {},
   "outputs": [],
   "source": []
  }
 ],
 "metadata": {
  "kernelspec": {
   "display_name": "Python 3 (ipykernel)",
   "language": "python",
   "name": "python3"
  },
  "language_info": {
   "codemirror_mode": {
    "name": "ipython",
    "version": 3
   },
   "file_extension": ".py",
   "mimetype": "text/x-python",
   "name": "python",
   "nbconvert_exporter": "python",
   "pygments_lexer": "ipython3",
   "version": "3.9.7"
  }
 },
 "nbformat": 4,
 "nbformat_minor": 5
}
