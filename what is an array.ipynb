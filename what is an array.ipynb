{
 "cells": [
  {
   "cell_type": "markdown",
   "id": "cf93734c",
   "metadata": {},
   "source": [
    "# What is an array ?\n",
    "\n",
    "An array is a special variable, which can hold more than one value at a time."
   ]
  },
  {
   "cell_type": "code",
   "execution_count": 2,
   "id": "ecf1250c",
   "metadata": {},
   "outputs": [],
   "source": [
    "cars = [\"Ford\", \"Volvo\", \"BMW\"]"
   ]
  },
  {
   "cell_type": "raw",
   "id": "6903b2b4",
   "metadata": {},
   "source": [
    "You refer to an array element by referring to the index number.\n"
   ]
  },
  {
   "cell_type": "code",
   "execution_count": null,
   "id": "7eda0537",
   "metadata": {},
   "outputs": [],
   "source": [
    "x = cars[0]"
   ]
  },
  {
   "cell_type": "code",
   "execution_count": null,
   "id": "e578223c",
   "metadata": {},
   "outputs": [],
   "source": [
    "Modify the value of the first array item:"
   ]
  },
  {
   "cell_type": "code",
   "execution_count": null,
   "id": "c4fe5c9d",
   "metadata": {},
   "outputs": [],
   "source": [
    "cars[0] = \"Toyota\""
   ]
  },
  {
   "cell_type": "code",
   "execution_count": null,
   "id": "eb0c48d7",
   "metadata": {},
   "outputs": [],
   "source": [
    "Return the number of elements in the cars array:"
   ]
  },
  {
   "cell_type": "code",
   "execution_count": null,
   "id": "dd5d96ea",
   "metadata": {},
   "outputs": [],
   "source": [
    "x = len(cars)"
   ]
  }
 ],
 "metadata": {
  "kernelspec": {
   "display_name": "Python 3 (ipykernel)",
   "language": "python",
   "name": "python3"
  },
  "language_info": {
   "codemirror_mode": {
    "name": "ipython",
    "version": 3
   },
   "file_extension": ".py",
   "mimetype": "text/x-python",
   "name": "python",
   "nbconvert_exporter": "python",
   "pygments_lexer": "ipython3",
   "version": "3.9.7"
  }
 },
 "nbformat": 4,
 "nbformat_minor": 5
}
