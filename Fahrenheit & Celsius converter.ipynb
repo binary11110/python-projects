{
 "cells": [
  {
   "cell_type": "code",
   "execution_count": null,
   "id": "7e367cf4",
   "metadata": {},
   "outputs": [],
   "source": [
    "\n",
    "val = input(\"Convert from Fahrenheit to Celsius press 1\"+\"          \"\n",
    "            +\"Convert from Celsius to Fahrenheit press 2\")\n",
    "temp = input(\"write temprature\")\n",
    "\n",
    "if val =='1':\n",
    "    print(\"temprature in Celsius:\",(int(temp)-32)*1.8)    \n",
    "elif val =='2':\n",
    "    print(\"temprature in Fahrenheit:\",int(temp) * 1.8+32)"
   ]
  },
  {
   "cell_type": "code",
   "execution_count": null,
   "id": "1a9dea95",
   "metadata": {},
   "outputs": [],
   "source": []
  },
  {
   "cell_type": "code",
   "execution_count": null,
   "id": "5436860c",
   "metadata": {},
   "outputs": [],
   "source": []
  },
  {
   "cell_type": "code",
   "execution_count": null,
   "id": "d6f42202",
   "metadata": {},
   "outputs": [],
   "source": []
  }
 ],
 "metadata": {
  "kernelspec": {
   "display_name": "Python 3 (ipykernel)",
   "language": "python",
   "name": "python3"
  },
  "language_info": {
   "codemirror_mode": {
    "name": "ipython",
    "version": 3
   },
   "file_extension": ".py",
   "mimetype": "text/x-python",
   "name": "python",
   "nbconvert_exporter": "python",
   "pygments_lexer": "ipython3",
   "version": "3.9.7"
  }
 },
 "nbformat": 4,
 "nbformat_minor": 5
}
