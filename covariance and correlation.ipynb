{
 "cells": [
  {
   "cell_type": "code",
   "execution_count": 1,
   "id": "fda480df",
   "metadata": {},
   "outputs": [],
   "source": [
    "import pandas as pd\n",
    "import numpy as np"
   ]
  },
  {
   "cell_type": "markdown",
   "id": "c46d72e2",
   "metadata": {},
   "source": [
    "Covariance:Covariance signifies the direction of the linear relationship between the two variables. By direction we mean if the variables are directly proportional or inversely proportional to each other. (Increasing the value of one variable might have a positive or a negative impact on the value of the other variable)."
   ]
  },
  {
   "cell_type": "markdown",
   "id": "75f365d0",
   "metadata": {},
   "source": [
    "correlation:Correlation analysis is a method of statistical evaluation used to study the strength of a relationship between two, numerically measured, continuous variables.\n",
    "\n",
    "It not only shows the kind of relation (in terms of direction) but also how strong the relationship is."
   ]
  },
  {
   "cell_type": "code",
   "execution_count": 2,
   "id": "3a4d6ac5",
   "metadata": {},
   "outputs": [
    {
     "data": {
      "text/html": [
       "<div>\n",
       "<style scoped>\n",
       "    .dataframe tbody tr th:only-of-type {\n",
       "        vertical-align: middle;\n",
       "    }\n",
       "\n",
       "    .dataframe tbody tr th {\n",
       "        vertical-align: top;\n",
       "    }\n",
       "\n",
       "    .dataframe thead th {\n",
       "        text-align: right;\n",
       "    }\n",
       "</style>\n",
       "<table border=\"1\" class=\"dataframe\">\n",
       "  <thead>\n",
       "    <tr style=\"text-align: right;\">\n",
       "      <th></th>\n",
       "      <th>ApplicantIncome</th>\n",
       "      <th>CoapplicantIncome</th>\n",
       "      <th>LoanAmount</th>\n",
       "      <th>Loan_Amount_Term</th>\n",
       "      <th>Credit_History</th>\n",
       "    </tr>\n",
       "  </thead>\n",
       "  <tbody>\n",
       "    <tr>\n",
       "      <th>ApplicantIncome</th>\n",
       "      <td>1.000000</td>\n",
       "      <td>-0.230222</td>\n",
       "      <td>0.371769</td>\n",
       "      <td>-0.032096</td>\n",
       "      <td>0.035356</td>\n",
       "    </tr>\n",
       "    <tr>\n",
       "      <th>CoapplicantIncome</th>\n",
       "      <td>-0.230222</td>\n",
       "      <td>1.000000</td>\n",
       "      <td>0.187174</td>\n",
       "      <td>-0.011730</td>\n",
       "      <td>-0.006507</td>\n",
       "    </tr>\n",
       "    <tr>\n",
       "      <th>LoanAmount</th>\n",
       "      <td>0.371769</td>\n",
       "      <td>0.187174</td>\n",
       "      <td>1.000000</td>\n",
       "      <td>0.033096</td>\n",
       "      <td>-0.001937</td>\n",
       "    </tr>\n",
       "    <tr>\n",
       "      <th>Loan_Amount_Term</th>\n",
       "      <td>-0.032096</td>\n",
       "      <td>-0.011730</td>\n",
       "      <td>0.033096</td>\n",
       "      <td>1.000000</td>\n",
       "      <td>0.014733</td>\n",
       "    </tr>\n",
       "    <tr>\n",
       "      <th>Credit_History</th>\n",
       "      <td>0.035356</td>\n",
       "      <td>-0.006507</td>\n",
       "      <td>-0.001937</td>\n",
       "      <td>0.014733</td>\n",
       "      <td>1.000000</td>\n",
       "    </tr>\n",
       "  </tbody>\n",
       "</table>\n",
       "</div>"
      ],
      "text/plain": [
       "                   ApplicantIncome  CoapplicantIncome  LoanAmount  \\\n",
       "ApplicantIncome           1.000000          -0.230222    0.371769   \n",
       "CoapplicantIncome        -0.230222           1.000000    0.187174   \n",
       "LoanAmount                0.371769           0.187174    1.000000   \n",
       "Loan_Amount_Term         -0.032096          -0.011730    0.033096   \n",
       "Credit_History            0.035356          -0.006507   -0.001937   \n",
       "\n",
       "                   Loan_Amount_Term  Credit_History  \n",
       "ApplicantIncome           -0.032096        0.035356  \n",
       "CoapplicantIncome         -0.011730       -0.006507  \n",
       "LoanAmount                 0.033096       -0.001937  \n",
       "Loan_Amount_Term           1.000000        0.014733  \n",
       "Credit_History             0.014733        1.000000  "
      ]
     },
     "execution_count": 2,
     "metadata": {},
     "output_type": "execute_result"
    }
   ],
   "source": [
    "df = pd.read_csv('loan_data_set.csv')\n",
    "#the correlation between every numeric value in dataset\n",
    "df.corr(method = 'kendall')"
   ]
  },
  {
   "cell_type": "code",
   "execution_count": 3,
   "id": "8063f847",
   "metadata": {},
   "outputs": [
    {
     "data": {
      "text/html": [
       "<div>\n",
       "<style scoped>\n",
       "    .dataframe tbody tr th:only-of-type {\n",
       "        vertical-align: middle;\n",
       "    }\n",
       "\n",
       "    .dataframe tbody tr th {\n",
       "        vertical-align: top;\n",
       "    }\n",
       "\n",
       "    .dataframe thead th {\n",
       "        text-align: right;\n",
       "    }\n",
       "</style>\n",
       "<table border=\"1\" class=\"dataframe\">\n",
       "  <thead>\n",
       "    <tr style=\"text-align: right;\">\n",
       "      <th></th>\n",
       "      <th>ApplicantIncome</th>\n",
       "      <th>CoapplicantIncome</th>\n",
       "      <th>LoanAmount</th>\n",
       "      <th>Loan_Amount_Term</th>\n",
       "      <th>Credit_History</th>\n",
       "    </tr>\n",
       "  </thead>\n",
       "  <tbody>\n",
       "    <tr>\n",
       "      <th>ApplicantIncome</th>\n",
       "      <td>3.732039e+07</td>\n",
       "      <td>-2.084490e+06</td>\n",
       "      <td>301192.495450</td>\n",
       "      <td>-18207.365609</td>\n",
       "      <td>-33.671724</td>\n",
       "    </tr>\n",
       "    <tr>\n",
       "      <th>CoapplicantIncome</th>\n",
       "      <td>-2.084490e+06</td>\n",
       "      <td>8.562930e+06</td>\n",
       "      <td>47909.140428</td>\n",
       "      <td>-11503.765339</td>\n",
       "      <td>-1.854510</td>\n",
       "    </tr>\n",
       "    <tr>\n",
       "      <th>LoanAmount</th>\n",
       "      <td>3.011925e+05</td>\n",
       "      <td>4.790914e+04</td>\n",
       "      <td>7325.190241</td>\n",
       "      <td>222.894173</td>\n",
       "      <td>-0.255510</td>\n",
       "    </tr>\n",
       "    <tr>\n",
       "      <th>Loan_Amount_Term</th>\n",
       "      <td>-1.820737e+04</td>\n",
       "      <td>-1.150377e+04</td>\n",
       "      <td>222.894173</td>\n",
       "      <td>4240.667780</td>\n",
       "      <td>0.034019</td>\n",
       "    </tr>\n",
       "    <tr>\n",
       "      <th>Credit_History</th>\n",
       "      <td>-3.367172e+01</td>\n",
       "      <td>-1.854510e+00</td>\n",
       "      <td>-0.255510</td>\n",
       "      <td>0.034019</td>\n",
       "      <td>0.133136</td>\n",
       "    </tr>\n",
       "  </tbody>\n",
       "</table>\n",
       "</div>"
      ],
      "text/plain": [
       "                   ApplicantIncome  CoapplicantIncome     LoanAmount  \\\n",
       "ApplicantIncome       3.732039e+07      -2.084490e+06  301192.495450   \n",
       "CoapplicantIncome    -2.084490e+06       8.562930e+06   47909.140428   \n",
       "LoanAmount            3.011925e+05       4.790914e+04    7325.190241   \n",
       "Loan_Amount_Term     -1.820737e+04      -1.150377e+04     222.894173   \n",
       "Credit_History       -3.367172e+01      -1.854510e+00      -0.255510   \n",
       "\n",
       "                   Loan_Amount_Term  Credit_History  \n",
       "ApplicantIncome       -18207.365609      -33.671724  \n",
       "CoapplicantIncome     -11503.765339       -1.854510  \n",
       "LoanAmount               222.894173       -0.255510  \n",
       "Loan_Amount_Term        4240.667780        0.034019  \n",
       "Credit_History             0.034019        0.133136  "
      ]
     },
     "execution_count": 3,
     "metadata": {},
     "output_type": "execute_result"
    }
   ],
   "source": [
    "#bringing the covariance between each numric varaibles\n",
    "df.cov()"
   ]
  },
  {
   "cell_type": "code",
   "execution_count": null,
   "id": "40af914a",
   "metadata": {},
   "outputs": [],
   "source": []
  }
 ],
 "metadata": {
  "kernelspec": {
   "display_name": "Python 3 (ipykernel)",
   "language": "python",
   "name": "python3"
  },
  "language_info": {
   "codemirror_mode": {
    "name": "ipython",
    "version": 3
   },
   "file_extension": ".py",
   "mimetype": "text/x-python",
   "name": "python",
   "nbconvert_exporter": "python",
   "pygments_lexer": "ipython3",
   "version": "3.9.7"
  }
 },
 "nbformat": 4,
 "nbformat_minor": 5
}
