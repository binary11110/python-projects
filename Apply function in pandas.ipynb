{
 "cells": [
  {
   "cell_type": "raw",
   "id": "62be0393",
   "metadata": {},
   "source": [
    "Apply a function along an axis ( column or row) of the DataFrame.\n",
    "\n",
    "Objects passed to the function are Series objects whose index is either the DataFrame’s index (axis=0) or the DataFrame’s columns (axis=1). By default (result_type=None)"
   ]
  },
  {
   "cell_type": "code",
   "execution_count": 5,
   "id": "5f17394f",
   "metadata": {},
   "outputs": [],
   "source": [
    "import pandas as pd\n",
    "import numpy as np"
   ]
  },
  {
   "cell_type": "code",
   "execution_count": 6,
   "id": "191a9311",
   "metadata": {},
   "outputs": [
    {
     "name": "stdout",
     "output_type": "stream",
     "text": [
      "   A  B  C\n",
      "0  1  2  3\n",
      "1  1  2  3\n",
      "2  1  2  3\n",
      "3  1  2  3\n",
      "4  1  2  3\n"
     ]
    }
   ],
   "source": [
    "#creating a dataframe\n",
    "df = pd.DataFrame([[1,2,3]]*5 , columns = ['A','B','C'])\n",
    "print(df)"
   ]
  },
  {
   "cell_type": "code",
   "execution_count": 8,
   "id": "32219f3a",
   "metadata": {},
   "outputs": [
    {
     "data": {
      "text/plain": [
       "A     5\n",
       "B    10\n",
       "C    15\n",
       "dtype: int64"
      ]
     },
     "execution_count": 8,
     "metadata": {},
     "output_type": "execute_result"
    }
   ],
   "source": [
    "# applying apply function per column\n",
    "df.apply(np.sum , axis =0)"
   ]
  },
  {
   "cell_type": "code",
   "execution_count": 9,
   "id": "545de220",
   "metadata": {},
   "outputs": [
    {
     "data": {
      "text/plain": [
       "0    6\n",
       "1    6\n",
       "2    6\n",
       "3    6\n",
       "4    6\n",
       "dtype: int64"
      ]
     },
     "execution_count": 9,
     "metadata": {},
     "output_type": "execute_result"
    }
   ],
   "source": [
    "# applying apply function per row\n",
    "df.apply(np.sum , axis =1)"
   ]
  },
  {
   "cell_type": "code",
   "execution_count": null,
   "id": "9b772416",
   "metadata": {},
   "outputs": [],
   "source": []
  }
 ],
 "metadata": {
  "kernelspec": {
   "display_name": "Python 3 (ipykernel)",
   "language": "python",
   "name": "python3"
  },
  "language_info": {
   "codemirror_mode": {
    "name": "ipython",
    "version": 3
   },
   "file_extension": ".py",
   "mimetype": "text/x-python",
   "name": "python",
   "nbconvert_exporter": "python",
   "pygments_lexer": "ipython3",
   "version": "3.9.7"
  }
 },
 "nbformat": 4,
 "nbformat_minor": 5
}
