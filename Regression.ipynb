{
 "cells": [
  {
   "cell_type": "markdown",
   "id": "f9207ffb",
   "metadata": {},
   "source": [
    "regression:  determine the strength of the relationship between one dependent variable (usually denoted by Y) and a series of  independent variables."
   ]
  },
  {
   "cell_type": "code",
   "execution_count": null,
   "id": "662dabb9",
   "metadata": {},
   "outputs": [],
   "source": [
    "Linear regression:its the relationship between a numeric depndent variable and one or more  independent variables.\n",
    "\n",
    "Logistic regression: its relationship between the binary dependent variable and one or more independent variables."
   ]
  }
 ],
 "metadata": {
  "kernelspec": {
   "display_name": "Python 3 (ipykernel)",
   "language": "python",
   "name": "python3"
  },
  "language_info": {
   "codemirror_mode": {
    "name": "ipython",
    "version": 3
   },
   "file_extension": ".py",
   "mimetype": "text/x-python",
   "name": "python",
   "nbconvert_exporter": "python",
   "pygments_lexer": "ipython3",
   "version": "3.9.7"
  }
 },
 "nbformat": 4,
 "nbformat_minor": 5
}
