{
 "cells": [
  {
   "cell_type": "markdown",
   "id": "0f94684c",
   "metadata": {},
   "source": [
    "# Today we are are going to talk about functions!!!"
   ]
  },
  {
   "cell_type": "markdown",
   "id": "b586ee46",
   "metadata": {},
   "source": [
    "# so what is a function?\n",
    "\n",
    "A function is a block of code which only executes when it is called , you can pass data in arguments\n",
    ",and it return data or it can return nothing \n"
   ]
  },
  {
   "cell_type": "markdown",
   "id": "25d5df64",
   "metadata": {},
   "source": [
    "# what are the benefits of a function?\n",
    "\n",
    "1) reduce duplicates of code\n",
    "2) improve clarity of the code\n",
    "3) reuse of code\n",
    "4) Decomposing complex problems into simpler pieces\n",
    "\n"
   ]
  },
  {
   "cell_type": "raw",
   "id": "cba1d064",
   "metadata": {},
   "source": [
    "in python syntax (def) is the keyword of function:"
   ]
  },
  {
   "cell_type": "code",
   "execution_count": 1,
   "id": "76ffdb32",
   "metadata": {},
   "outputs": [],
   "source": [
    "def name_of_function():\n",
    "    print(\"hello world\")\n",
    "    "
   ]
  },
  {
   "cell_type": "markdown",
   "id": "e0f91a26",
   "metadata": {},
   "source": [
    "now lets call the function that we have created"
   ]
  },
  {
   "cell_type": "code",
   "execution_count": 2,
   "id": "efe5d315",
   "metadata": {},
   "outputs": [
    {
     "name": "stdout",
     "output_type": "stream",
     "text": [
      "hello world\n"
     ]
    }
   ],
   "source": [
    "name_of_function()"
   ]
  },
  {
   "cell_type": "raw",
   "id": "863ea5a1",
   "metadata": {},
   "source": [
    "passing arguments (data) is easy just pass it between the function brackets"
   ]
  },
  {
   "cell_type": "code",
   "execution_count": 4,
   "id": "9fea5381",
   "metadata": {},
   "outputs": [
    {
     "name": "stdout",
     "output_type": "stream",
     "text": [
      "sara is beautiful\n",
      "Ahmed is beautiful\n"
     ]
    }
   ],
   "source": [
    "def name_of_function(fname):\n",
    "  print(fname + \" is beautiful\")\n",
    "\n",
    "name_of_function(\"sara\")\n",
    "name_of_function(\"Ahmed\")"
   ]
  },
  {
   "cell_type": "code",
   "execution_count": null,
   "id": "5b2860e9",
   "metadata": {},
   "outputs": [],
   "source": []
  }
 ],
 "metadata": {
  "kernelspec": {
   "display_name": "Python 3 (ipykernel)",
   "language": "python",
   "name": "python3"
  },
  "language_info": {
   "codemirror_mode": {
    "name": "ipython",
    "version": 3
   },
   "file_extension": ".py",
   "mimetype": "text/x-python",
   "name": "python",
   "nbconvert_exporter": "python",
   "pygments_lexer": "ipython3",
   "version": "3.9.7"
  }
 },
 "nbformat": 4,
 "nbformat_minor": 5
}
