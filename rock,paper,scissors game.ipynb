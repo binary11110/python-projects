{
 "cells": [
  {
   "cell_type": "code",
   "execution_count": 51,
   "id": "dc82a5ac",
   "metadata": {},
   "outputs": [],
   "source": [
    "import random\n",
    "score = 0\n",
    "\n"
   ]
  },
  {
   "cell_type": "code",
   "execution_count": 60,
   "id": "5c73fae2",
   "metadata": {},
   "outputs": [
    {
     "name": "stdout",
     "output_type": "stream",
     "text": [
      "Your turn!S\n",
      "P\n",
      "You win! +1\n",
      "Your score = 1\n"
     ]
    }
   ],
   "source": [
    "rand = random.choice('RPS')\n",
    "your_turn = input(\"Your turn!\")\n",
    "\n",
    "if your_turn =='R':\n",
    "    \n",
    "    if rand == 'R':\n",
    "        print(rand)\n",
    "        print(\"its a tie!\")\n",
    "        print(\"Your score =\",score)\n",
    "    elif rand == 'P':\n",
    "        print(rand)\n",
    "        score =score-1\n",
    "        print(\"Try again! -1\")\n",
    "        print(\"Your score =\",score)\n",
    "    elif rand == 'S':\n",
    "        print(rand)\n",
    "        score =score+1\n",
    "        print(\"You win! +1\")\n",
    "        print(\"Your score =\",score)\n",
    "\n",
    "elif your_turn =='P':\n",
    "    \n",
    "    if rand == 'R':\n",
    "        print(rand)\n",
    "        score =score+1\n",
    "        print(\"You win! +1\")\n",
    "        print(\"Your score =\",score)\n",
    "    elif rand == 'P':\n",
    "        print(rand)\n",
    "        print(\"its a tie!\")\n",
    "        print(\"Your score =\",score)\n",
    "    elif rand == 'S':\n",
    "        print(rand)\n",
    "        score =score-1\n",
    "        print(\"Try again! -1\")\n",
    "        print(\"Your score =\",score)\n",
    "        \n",
    "elif your_turn =='S':\n",
    "    \n",
    "    if rand == 'R':\n",
    "        print(rand)\n",
    "        score =score-1\n",
    "        print(\"Try again! -1\")\n",
    "        print(\"Your score =\",score)\n",
    "    elif rand == 'P':\n",
    "        print(rand)\n",
    "        score =score+1\n",
    "        print(\"You win! +1\")\n",
    "        print(\"Your score =\",score)\n",
    "    elif rand == 'S':\n",
    "        print(rand)\n",
    "        print(\"its a tie!\")\n",
    "        print(\"Your score =\",score)\n",
    "                "
   ]
  },
  {
   "cell_type": "code",
   "execution_count": null,
   "id": "73561338",
   "metadata": {},
   "outputs": [],
   "source": [
    "\n",
    "        "
   ]
  },
  {
   "cell_type": "code",
   "execution_count": null,
   "id": "31d1db3c",
   "metadata": {},
   "outputs": [],
   "source": []
  }
 ],
 "metadata": {
  "kernelspec": {
   "display_name": "Python 3 (ipykernel)",
   "language": "python",
   "name": "python3"
  },
  "language_info": {
   "codemirror_mode": {
    "name": "ipython",
    "version": 3
   },
   "file_extension": ".py",
   "mimetype": "text/x-python",
   "name": "python",
   "nbconvert_exporter": "python",
   "pygments_lexer": "ipython3",
   "version": "3.9.7"
  }
 },
 "nbformat": 4,
 "nbformat_minor": 5
}
