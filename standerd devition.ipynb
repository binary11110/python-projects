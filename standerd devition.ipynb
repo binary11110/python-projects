{
 "cells": [
  {
   "cell_type": "markdown",
   "id": "1603e205",
   "metadata": {},
   "source": [
    "Standard Deviation: It is a statistic that calculates the dispersion of a \n",
    "                                      data set as compared to its mean."
   ]
  },
  {
   "cell_type": "code",
   "execution_count": 1,
   "id": "8cc1aa99",
   "metadata": {},
   "outputs": [],
   "source": [
    "import numpy as np\n",
    "import pandas as pd\n",
    "df = pd.read_csv('loan_data_set.csv')"
   ]
  },
  {
   "cell_type": "code",
   "execution_count": 2,
   "id": "209d5daa",
   "metadata": {},
   "outputs": [
    {
     "name": "stdout",
     "output_type": "stream",
     "text": [
      "Standard Deviation: 6109.041673387178\n"
     ]
    }
   ],
   "source": [
    "sd = np.std(df['ApplicantIncome'], ddof=1)\n",
    "print(\"Standard Deviation:\", sd)"
   ]
  },
  {
   "cell_type": "code",
   "execution_count": null,
   "id": "42e5b210",
   "metadata": {},
   "outputs": [],
   "source": []
  }
 ],
 "metadata": {
  "kernelspec": {
   "display_name": "Python 3 (ipykernel)",
   "language": "python",
   "name": "python3"
  },
  "language_info": {
   "codemirror_mode": {
    "name": "ipython",
    "version": 3
   },
   "file_extension": ".py",
   "mimetype": "text/x-python",
   "name": "python",
   "nbconvert_exporter": "python",
   "pygments_lexer": "ipython3",
   "version": "3.9.7"
  }
 },
 "nbformat": 4,
 "nbformat_minor": 5
}
