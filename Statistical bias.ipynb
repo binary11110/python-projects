{
 "cells": [
  {
   "cell_type": "markdown",
   "id": "d7842e33",
   "metadata": {},
   "source": [
    "Statistical bias:it calculates the differences between results and facts \n",
    "  , Bias implies that the data selection may have been skewed by the collection criteria.example \n",
    "  to investigate people's selling habits. If the sample size is not large enough, the results may not be representative of the selling habits of all the people. That is, there may be big differnece between the survey results and the actual results. Therefore, understanding the source of statistical bias can help to assess whether the observed results are close to the real results."
   ]
  },
  {
   "cell_type": "markdown",
   "id": "7b259706",
   "metadata": {},
   "source": []
  }
 ],
 "metadata": {
  "kernelspec": {
   "display_name": "Python 3 (ipykernel)",
   "language": "python",
   "name": "python3"
  },
  "language_info": {
   "codemirror_mode": {
    "name": "ipython",
    "version": 3
   },
   "file_extension": ".py",
   "mimetype": "text/x-python",
   "name": "python",
   "nbconvert_exporter": "python",
   "pygments_lexer": "ipython3",
   "version": "3.9.7"
  }
 },
 "nbformat": 4,
 "nbformat_minor": 5
}
