{
 "cells": [
  {
   "cell_type": "markdown",
   "id": "32f0da42",
   "metadata": {},
   "source": [
    " Confidence Interval :a  confidence interval displays the probability that a parameter will fall less or more than the mean."
   ]
  },
  {
   "cell_type": "markdown",
   "id": "b6da3a22",
   "metadata": {},
   "source": [
    "measure the degree of uncertainty or certainty in a sampling method. They can take any number of probability limits, with the most common being a 95% or 99% confidence level. Confidence intervals are conducted using statistical methods, such as a t-test."
   ]
  }
 ],
 "metadata": {
  "kernelspec": {
   "display_name": "Python 3 (ipykernel)",
   "language": "python",
   "name": "python3"
  },
  "language_info": {
   "codemirror_mode": {
    "name": "ipython",
    "version": 3
   },
   "file_extension": ".py",
   "mimetype": "text/x-python",
   "name": "python",
   "nbconvert_exporter": "python",
   "pygments_lexer": "ipython3",
   "version": "3.9.7"
  }
 },
 "nbformat": 4,
 "nbformat_minor": 5
}
